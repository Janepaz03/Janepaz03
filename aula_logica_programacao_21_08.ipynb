{
  "nbformat": 4,
  "nbformat_minor": 0,
  "metadata": {
    "colab": {
      "provenance": [],
      "include_colab_link": true
    },
    "kernelspec": {
      "name": "python3",
      "display_name": "Python 3"
    },
    "language_info": {
      "name": "python"
    }
  },
  "cells": [
    {
      "cell_type": "markdown",
      "metadata": {
        "id": "view-in-github",
        "colab_type": "text"
      },
      "source": [
        "<a href=\"https://colab.research.google.com/github/Janepaz03/Janepaz03/blob/main/aula_logica_programacao_21_08.ipynb\" target=\"_parent\"><img src=\"https://colab.research.google.com/assets/colab-badge.svg\" alt=\"Open In Colab\"/></a>"
      ]
    },
    {
      "cell_type": "markdown",
      "source": [
        "# Tipos de dados"
      ],
      "metadata": {
        "id": "F3bApFOLFN_H"
      }
    },
    {
      "cell_type": "markdown",
      "source": [
        "1. int (3, 1, 5, -4, -2)\n",
        "2. float (1.23, 4.5, 0.88)\n",
        "3. str ('Thiago', 'IPOG', 'aula de lógica de programação')\n",
        "4. bool (True, False) -> (1, 0)"
      ],
      "metadata": {
        "id": "j7m5xdGlFQD2"
      }
    },
    {
      "cell_type": "markdown",
      "source": [
        "Para executar aperte **shift + enter**"
      ],
      "metadata": {
        "id": "FrgdftojK7o8"
      }
    },
    {
      "cell_type": "markdown",
      "source": [],
      "metadata": {
        "id": "i-HmR0VSNZGu"
      }
    },
    {
      "cell_type": "code",
      "source": [],
      "metadata": {
        "id": "FjimmECINYCu"
      },
      "execution_count": null,
      "outputs": []
    },
    {
      "cell_type": "markdown",
      "source": [],
      "metadata": {
        "id": "EPSopiH2NY3-"
      }
    },
    {
      "cell_type": "code",
      "execution_count": null,
      "metadata": {
        "id": "X5XKn_LTB59Z"
      },
      "outputs": [],
      "source": []
    },
    {
      "cell_type": "code",
      "source": [],
      "metadata": {
        "id": "4YHqVSAjCN0g"
      },
      "execution_count": null,
      "outputs": []
    },
    {
      "cell_type": "code",
      "source": [],
      "metadata": {
        "id": "sXZSxmWGCOEI"
      },
      "execution_count": null,
      "outputs": []
    },
    {
      "cell_type": "code",
      "source": [],
      "metadata": {
        "id": "JQ34EYeLCOTx"
      },
      "execution_count": null,
      "outputs": []
    },
    {
      "cell_type": "markdown",
      "source": [
        "# Título"
      ],
      "metadata": {
        "id": "QFEM_aFNCPQ0"
      }
    },
    {
      "cell_type": "markdown",
      "source": [
        "1. opção 1\n",
        "2. opção 2\n",
        "3. opção 3"
      ],
      "metadata": {
        "id": "v4d5F9L8CXSy"
      }
    },
    {
      "cell_type": "markdown",
      "source": [
        "**negrito**"
      ],
      "metadata": {
        "id": "pDIGx7dtCjxz"
      }
    },
    {
      "cell_type": "markdown",
      "source": [
        "# Constantes e Variáveis"
      ],
      "metadata": {
        "id": "XrCYKrLL_IS9"
      }
    },
    {
      "cell_type": "code",
      "source": [
        "#constante pi\n",
        "PI = 3.14"
      ],
      "metadata": {
        "id": "IQGcWZb_CS8B"
      },
      "execution_count": null,
      "outputs": []
    },
    {
      "cell_type": "code",
      "source": [
        "idade = 36"
      ],
      "metadata": {
        "id": "9oxRovgb_Ym5"
      },
      "execution_count": null,
      "outputs": []
    },
    {
      "cell_type": "code",
      "source": [
        "idade"
      ],
      "metadata": {
        "colab": {
          "base_uri": "https://localhost:8080/"
        },
        "id": "-Ybm-8GZ_8I7",
        "outputId": "3d43adc7-34c7-42bd-ebbf-66a6bc9019f5"
      },
      "execution_count": null,
      "outputs": [
        {
          "output_type": "execute_result",
          "data": {
            "text/plain": [
              "37"
            ]
          },
          "metadata": {},
          "execution_count": 7
        }
      ]
    },
    {
      "cell_type": "code",
      "source": [
        "PI"
      ],
      "metadata": {
        "colab": {
          "base_uri": "https://localhost:8080/"
        },
        "id": "HGq50eiH_854",
        "outputId": "d9c027aa-b5f3-41ea-b6b4-bbbcd23f5cb4"
      },
      "execution_count": null,
      "outputs": [
        {
          "output_type": "execute_result",
          "data": {
            "text/plain": [
              "3.14"
            ]
          },
          "metadata": {},
          "execution_count": 4
        }
      ]
    },
    {
      "cell_type": "code",
      "source": [
        "#variável idade\n",
        "idade = 37"
      ],
      "metadata": {
        "id": "R9yDkkk2AHOj"
      },
      "execution_count": null,
      "outputs": []
    },
    {
      "cell_type": "code",
      "source": [
        "idade"
      ],
      "metadata": {
        "colab": {
          "base_uri": "https://localhost:8080/"
        },
        "id": "EAVEjgcHAMSI",
        "outputId": "fe53e5d3-e34d-46f6-911a-86f3794a5041"
      },
      "execution_count": null,
      "outputs": [
        {
          "output_type": "execute_result",
          "data": {
            "text/plain": [
              "37"
            ]
          },
          "metadata": {},
          "execution_count": 18
        }
      ]
    },
    {
      "cell_type": "code",
      "source": [
        "#verificação do tipo da variável\n",
        "type(idade)"
      ],
      "metadata": {
        "colab": {
          "base_uri": "https://localhost:8080/"
        },
        "id": "tsmwAhpyAObW",
        "outputId": "64f311e0-3a77-4e17-c864-b68ff4aab440"
      },
      "execution_count": null,
      "outputs": [
        {
          "output_type": "execute_result",
          "data": {
            "text/plain": [
              "int"
            ]
          },
          "metadata": {},
          "execution_count": 19
        }
      ]
    },
    {
      "cell_type": "code",
      "source": [
        "peso = 105.65"
      ],
      "metadata": {
        "id": "GABFC_pgEKD2"
      },
      "execution_count": null,
      "outputs": []
    },
    {
      "cell_type": "code",
      "source": [
        "type(peso)"
      ],
      "metadata": {
        "colab": {
          "base_uri": "https://localhost:8080/"
        },
        "id": "dZDH1m0PES9X",
        "outputId": "37d6b8e5-2148-4e81-d3e2-82d16a028530"
      },
      "execution_count": null,
      "outputs": [
        {
          "output_type": "execute_result",
          "data": {
            "text/plain": [
              "float"
            ]
          },
          "metadata": {},
          "execution_count": 21
        }
      ]
    },
    {
      "cell_type": "code",
      "source": [
        "nome = 'Thiago'"
      ],
      "metadata": {
        "id": "2pwbxz7XEcCN"
      },
      "execution_count": null,
      "outputs": []
    },
    {
      "cell_type": "code",
      "source": [
        "type(nome)"
      ],
      "metadata": {
        "colab": {
          "base_uri": "https://localhost:8080/"
        },
        "id": "hcyx5XUmEe3v",
        "outputId": "8700334d-f97f-418a-e0c8-0491c0d16925"
      },
      "execution_count": null,
      "outputs": [
        {
          "output_type": "execute_result",
          "data": {
            "text/plain": [
              "str"
            ]
          },
          "metadata": {},
          "execution_count": 25
        }
      ]
    },
    {
      "cell_type": "markdown",
      "source": [
        "**Práticas em nomes de variáveis**"
      ],
      "metadata": {
        "id": "0r52iicbDoZS"
      }
    },
    {
      "cell_type": "code",
      "source": [
        "idade_do_aluno = 17\n",
        "idade_do_professor = 40"
      ],
      "metadata": {
        "id": "igxItg0fBXgN"
      },
      "execution_count": null,
      "outputs": []
    },
    {
      "cell_type": "code",
      "source": [
        "idadeAluno = 18\n",
        "idadeProfessor = 40"
      ],
      "metadata": {
        "id": "ZXr4QwcCBYS1"
      },
      "execution_count": null,
      "outputs": []
    },
    {
      "cell_type": "code",
      "source": [
        "idade_do_aluno"
      ],
      "metadata": {
        "colab": {
          "base_uri": "https://localhost:8080/"
        },
        "id": "VqYqTFzYBYvT",
        "outputId": "d9de0d1d-f570-49b5-888d-65ea5b126111"
      },
      "execution_count": null,
      "outputs": [
        {
          "output_type": "execute_result",
          "data": {
            "text/plain": [
              "17"
            ]
          },
          "metadata": {},
          "execution_count": 16
        }
      ]
    },
    {
      "cell_type": "code",
      "source": [
        "idadeAluno"
      ],
      "metadata": {
        "colab": {
          "base_uri": "https://localhost:8080/"
        },
        "id": "iPMfBMlzD0lw",
        "outputId": "f3fb73bd-a91a-45a7-888d-47dd0449fdd6"
      },
      "execution_count": null,
      "outputs": [
        {
          "output_type": "execute_result",
          "data": {
            "text/plain": [
              "18"
            ]
          },
          "metadata": {},
          "execution_count": 17
        }
      ]
    },
    {
      "cell_type": "code",
      "source": [
        "valor = 45.98"
      ],
      "metadata": {
        "id": "qU4rkL3UD1jh"
      },
      "execution_count": null,
      "outputs": []
    },
    {
      "cell_type": "markdown",
      "source": [
        "# Operadores aritméticos"
      ],
      "metadata": {
        "id": "UXX1tBQJFu3M"
      }
    },
    {
      "cell_type": "code",
      "source": [
        "variavel1 = 56\n",
        "variavel2 = 18"
      ],
      "metadata": {
        "id": "NVSdhJi1FV8y"
      },
      "execution_count": null,
      "outputs": []
    },
    {
      "cell_type": "code",
      "source": [
        "variavel1 + variavel2"
      ],
      "metadata": {
        "colab": {
          "base_uri": "https://localhost:8080/"
        },
        "id": "2oCShEywF2qb",
        "outputId": "30e81f15-60bb-4710-a705-65f578be6ac5"
      },
      "execution_count": null,
      "outputs": [
        {
          "output_type": "execute_result",
          "data": {
            "text/plain": [
              "74"
            ]
          },
          "metadata": {},
          "execution_count": 37
        }
      ]
    },
    {
      "cell_type": "code",
      "source": [
        "variavel1 - variavel2"
      ],
      "metadata": {
        "colab": {
          "base_uri": "https://localhost:8080/"
        },
        "id": "mmS0Xj8xF6V4",
        "outputId": "a8e56d8d-d01d-47e0-e3bf-fcf96c61e31d"
      },
      "execution_count": null,
      "outputs": [
        {
          "output_type": "execute_result",
          "data": {
            "text/plain": [
              "38"
            ]
          },
          "metadata": {},
          "execution_count": 38
        }
      ]
    },
    {
      "cell_type": "code",
      "source": [
        "variavel1**variavel2"
      ],
      "metadata": {
        "colab": {
          "base_uri": "https://localhost:8080/"
        },
        "id": "5F3dgbX1GGI7",
        "outputId": "f32a50fd-0b54-4735-daad-d5cd28a9bd7a"
      },
      "execution_count": null,
      "outputs": [
        {
          "output_type": "execute_result",
          "data": {
            "text/plain": [
              "29334891491018187280695810850816"
            ]
          },
          "metadata": {},
          "execution_count": 39
        }
      ]
    },
    {
      "cell_type": "code",
      "source": [
        "5/2"
      ],
      "metadata": {
        "colab": {
          "base_uri": "https://localhost:8080/"
        },
        "id": "wHCu3d7JGOlI",
        "outputId": "5e513f21-8bfe-4de6-97b5-5efce90cc0b9"
      },
      "execution_count": null,
      "outputs": [
        {
          "output_type": "execute_result",
          "data": {
            "text/plain": [
              "2.5"
            ]
          },
          "metadata": {},
          "execution_count": 40
        }
      ]
    },
    {
      "cell_type": "code",
      "source": [
        "5//2"
      ],
      "metadata": {
        "colab": {
          "base_uri": "https://localhost:8080/"
        },
        "id": "l87KYJJ7GiZG",
        "outputId": "3cb645ac-91d3-4959-8df5-2b0323ecdac5"
      },
      "execution_count": null,
      "outputs": [
        {
          "output_type": "execute_result",
          "data": {
            "text/plain": [
              "2"
            ]
          },
          "metadata": {},
          "execution_count": 41
        }
      ]
    },
    {
      "cell_type": "code",
      "source": [
        "5%2"
      ],
      "metadata": {
        "colab": {
          "base_uri": "https://localhost:8080/"
        },
        "id": "XU0tkXE0HrD1",
        "outputId": "61102dfa-238c-441d-a40e-f73b6db59875"
      },
      "execution_count": null,
      "outputs": [
        {
          "output_type": "execute_result",
          "data": {
            "text/plain": [
              "1"
            ]
          },
          "metadata": {},
          "execution_count": 44
        }
      ]
    },
    {
      "cell_type": "code",
      "source": [
        "4%2"
      ],
      "metadata": {
        "colab": {
          "base_uri": "https://localhost:8080/"
        },
        "id": "HGARro_kH_XH",
        "outputId": "834cbc1e-4fbf-46b8-e77e-66621aafec38"
      },
      "execution_count": null,
      "outputs": [
        {
          "output_type": "execute_result",
          "data": {
            "text/plain": [
              "0"
            ]
          },
          "metadata": {},
          "execution_count": 45
        }
      ]
    },
    {
      "cell_type": "markdown",
      "source": [
        "# Operadores relacionais"
      ],
      "metadata": {
        "id": "xEDS6QtJISG5"
      }
    },
    {
      "cell_type": "code",
      "source": [
        "variavel3 = 6\n",
        "variavel4 = 9"
      ],
      "metadata": {
        "id": "p1u_aLYfIFDL"
      },
      "execution_count": null,
      "outputs": []
    },
    {
      "cell_type": "code",
      "source": [
        "variavel3 == variavel4"
      ],
      "metadata": {
        "colab": {
          "base_uri": "https://localhost:8080/"
        },
        "id": "-blZ1VTCIa1h",
        "outputId": "630552b1-e861-45ac-a33f-fdebca61978b"
      },
      "execution_count": null,
      "outputs": [
        {
          "output_type": "execute_result",
          "data": {
            "text/plain": [
              "False"
            ]
          },
          "metadata": {},
          "execution_count": 47
        }
      ]
    },
    {
      "cell_type": "code",
      "source": [
        "variavel3 > variavel4"
      ],
      "metadata": {
        "colab": {
          "base_uri": "https://localhost:8080/"
        },
        "id": "nLx-ftyaIt8r",
        "outputId": "4ddb84e7-df92-46b9-97c5-c2381645a4eb"
      },
      "execution_count": null,
      "outputs": [
        {
          "output_type": "execute_result",
          "data": {
            "text/plain": [
              "False"
            ]
          },
          "metadata": {},
          "execution_count": 48
        }
      ]
    },
    {
      "cell_type": "code",
      "source": [
        "variavel3 < variavel4"
      ],
      "metadata": {
        "colab": {
          "base_uri": "https://localhost:8080/"
        },
        "id": "4pXOTG4RIx42",
        "outputId": "c74b326a-74e3-4660-f93b-105906b8f55e"
      },
      "execution_count": null,
      "outputs": [
        {
          "output_type": "execute_result",
          "data": {
            "text/plain": [
              "True"
            ]
          },
          "metadata": {},
          "execution_count": 49
        }
      ]
    },
    {
      "cell_type": "code",
      "source": [
        "9 <= 9"
      ],
      "metadata": {
        "colab": {
          "base_uri": "https://localhost:8080/"
        },
        "id": "CDWpFyFPI9At",
        "outputId": "e6eeef76-336d-4dae-dea1-901536a02c40"
      },
      "execution_count": null,
      "outputs": [
        {
          "output_type": "execute_result",
          "data": {
            "text/plain": [
              "True"
            ]
          },
          "metadata": {},
          "execution_count": 52
        }
      ]
    },
    {
      "cell_type": "code",
      "source": [
        "9 < 9"
      ],
      "metadata": {
        "colab": {
          "base_uri": "https://localhost:8080/"
        },
        "id": "yoTVDVjPJDI5",
        "outputId": "d5888268-e5a3-44f0-df54-5e7b1b4b79d4"
      },
      "execution_count": null,
      "outputs": [
        {
          "output_type": "execute_result",
          "data": {
            "text/plain": [
              "False"
            ]
          },
          "metadata": {},
          "execution_count": 53
        }
      ]
    },
    {
      "cell_type": "code",
      "source": [
        "variavel3 != variavel4"
      ],
      "metadata": {
        "colab": {
          "base_uri": "https://localhost:8080/"
        },
        "id": "5HqnRdOiJD2o",
        "outputId": "366aa378-39e7-4b92-f6aa-f3a52c74ffbd"
      },
      "execution_count": null,
      "outputs": [
        {
          "output_type": "execute_result",
          "data": {
            "text/plain": [
              "True"
            ]
          },
          "metadata": {},
          "execution_count": 54
        }
      ]
    },
    {
      "cell_type": "markdown",
      "source": [
        "# Comandos de entrada e saída"
      ],
      "metadata": {
        "id": "_Za_yM1NJvBg"
      }
    },
    {
      "cell_type": "code",
      "source": [
        "nomeUsuario = input('Digite seu nome: ')"
      ],
      "metadata": {
        "colab": {
          "base_uri": "https://localhost:8080/"
        },
        "id": "gJheiI96JLTS",
        "outputId": "4e0dc25b-8998-4ab1-bb56-8adf2088efb6"
      },
      "execution_count": null,
      "outputs": [
        {
          "name": "stdout",
          "output_type": "stream",
          "text": [
            "Digite seu nome: Thiago\n"
          ]
        }
      ]
    },
    {
      "cell_type": "code",
      "source": [
        "nomeUsuario"
      ],
      "metadata": {
        "colab": {
          "base_uri": "https://localhost:8080/",
          "height": 35
        },
        "id": "JaJpx8sdKH2g",
        "outputId": "f9a67c08-a294-4440-b1b6-0e7c6bae6402"
      },
      "execution_count": null,
      "outputs": [
        {
          "output_type": "execute_result",
          "data": {
            "text/plain": [
              "'Thiago'"
            ],
            "application/vnd.google.colaboratory.intrinsic+json": {
              "type": "string"
            }
          },
          "metadata": {},
          "execution_count": 57
        }
      ]
    },
    {
      "cell_type": "code",
      "source": [
        "type(nomeUsuario)"
      ],
      "metadata": {
        "colab": {
          "base_uri": "https://localhost:8080/"
        },
        "id": "Mwoo6oMTKJUn",
        "outputId": "111ff2b8-3767-47ff-e0e3-15a2647a0684"
      },
      "execution_count": null,
      "outputs": [
        {
          "output_type": "execute_result",
          "data": {
            "text/plain": [
              "str"
            ]
          },
          "metadata": {},
          "execution_count": 58
        }
      ]
    },
    {
      "cell_type": "code",
      "source": [
        "nomeUsuario = input('Digite seu nome: ')\n",
        "idadeUsuario = int(input('Digite sua idade: '))\n",
        "metadeDaIdade = idadeUsuario/2\n",
        "print('A idade do usuário divida por dois é: ', metadeDaIdade)"
      ],
      "metadata": {
        "colab": {
          "base_uri": "https://localhost:8080/"
        },
        "id": "0ZbAM5Q8KPf2",
        "outputId": "9342d1d7-642d-46ac-ca1c-f1a965e7cfe5"
      },
      "execution_count": null,
      "outputs": [
        {
          "output_type": "stream",
          "name": "stdout",
          "text": [
            "Digite seu nome: Thiago\n",
            "Digite sua idade: 36\n",
            "A idade do usuário divida por dois é:  18.0\n"
          ]
        }
      ]
    },
    {
      "cell_type": "code",
      "source": [
        "nomeUsuario"
      ],
      "metadata": {
        "colab": {
          "base_uri": "https://localhost:8080/",
          "height": 35
        },
        "id": "U95vg3ZlKmbp",
        "outputId": "e207a14e-f16a-46f4-a822-2c37c0f245bd"
      },
      "execution_count": null,
      "outputs": [
        {
          "output_type": "execute_result",
          "data": {
            "text/plain": [
              "'Thiago'"
            ],
            "application/vnd.google.colaboratory.intrinsic+json": {
              "type": "string"
            }
          },
          "metadata": {},
          "execution_count": 60
        }
      ]
    },
    {
      "cell_type": "code",
      "source": [
        "idadeUsuario"
      ],
      "metadata": {
        "colab": {
          "base_uri": "https://localhost:8080/"
        },
        "id": "2auLQBjIKrkB",
        "outputId": "cef71f23-73db-4caf-9fee-11a5bd04f6d1"
      },
      "execution_count": null,
      "outputs": [
        {
          "output_type": "execute_result",
          "data": {
            "text/plain": [
              "36"
            ]
          },
          "metadata": {},
          "execution_count": 61
        }
      ]
    },
    {
      "cell_type": "code",
      "source": [
        "metadeDaIdade"
      ],
      "metadata": {
        "colab": {
          "base_uri": "https://localhost:8080/"
        },
        "id": "e6MYRaDBKsk2",
        "outputId": "cb038340-ece7-4d7c-f599-ac3a63d7d81d"
      },
      "execution_count": null,
      "outputs": [
        {
          "output_type": "execute_result",
          "data": {
            "text/plain": [
              "18.0"
            ]
          },
          "metadata": {},
          "execution_count": 63
        }
      ]
    },
    {
      "cell_type": "code",
      "source": [
        "print(metadeDaIdade)"
      ],
      "metadata": {
        "colab": {
          "base_uri": "https://localhost:8080/"
        },
        "id": "gNObT-SrLEK0",
        "outputId": "d251ab2c-51fc-4810-e899-ad2ffe8a3d3e"
      },
      "execution_count": null,
      "outputs": [
        {
          "output_type": "stream",
          "name": "stdout",
          "text": [
            "18.0\n"
          ]
        }
      ]
    },
    {
      "cell_type": "code",
      "source": [],
      "metadata": {
        "id": "3A6Hi6NjLtXh"
      },
      "execution_count": null,
      "outputs": []
    }
  ]
}